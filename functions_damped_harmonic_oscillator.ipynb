{
 "cells": [
  {
   "cell_type": "markdown",
   "metadata": {},
   "source": [
    "# Damped Harmonic Oscillator"
   ]
  },
  {
   "cell_type": "markdown",
   "metadata": {},
   "source": [
    "Consider a mathematical model that describes the motion of a damped harmonic oscillator given by the following differential equation:\n",
    "\n",
    "$$m * \\frac{d^2x}{dt^2} + c * \\frac{dx}{dt} + k * x = 0$$\n",
    "\n",
    "Where:\n",
    "\n",
    "- m is the mass of the oscillator,\n",
    "- c is the damping coefficient,\n",
    "- k is the spring constant,\n",
    "- x(t) represents the displacement of the oscillator at time t."
   ]
  },
  {
   "cell_type": "code",
   "execution_count": 1,
   "metadata": {},
   "outputs": [],
   "source": [
    "import matplotlib.pyplot as plt"
   ]
  },
  {
   "cell_type": "code",
   "execution_count": 2,
   "metadata": {},
   "outputs": [],
   "source": [
    "# Damped harmonic oscillator solver\n",
    "\n",
    "def acceleration(x, v, c, k, m):\n",
    "    \n",
    "    return (-c * v - k * x) / m\n",
    "\n",
    "# Function to solve the damped harmonic oscillator using the Euler method\n",
    "def solve_damped_harmonic_oscillator(\n",
    "        t0, x0, v0, tf, dt=0.01,\n",
    "        c=0.1, k=1.0, m=1.0\n",
    "    ):\n",
    "\n",
    "    t_values = []\n",
    "    x_values = []\n",
    "    v_values = []\n",
    "\n",
    "    t = t0\n",
    "    x = x0\n",
    "    v = v0\n",
    "\n",
    "    while t <= tf:\n",
    "        t_values.append(t)\n",
    "        x_values.append(x)\n",
    "        v_values.append(v)\n",
    "\n",
    "        a = acceleration(x, v, c, k, m)\n",
    "\n",
    "        # Euler method\n",
    "        x += v * dt\n",
    "        v += a * dt\n",
    "\n",
    "        t += dt\n",
    "\n",
    "    return t_values, x_values, v_values"
   ]
  },
  {
   "cell_type": "code",
   "execution_count": 3,
   "metadata": {},
   "outputs": [],
   "source": [
    "# Plot the displacement and velocity versus time\n",
    "\n",
    "def plot_damped_harmonic_oscillator(\n",
    "        t_values, x_values, v_values,\n",
    "        c, k, m,\n",
    "        figsize=None\n",
    "    ):\n",
    "\n",
    "    fig, axs = plt.subplots(\n",
    "        nrows=2, ncols=1,\n",
    "        figsize=figsize, sharex=True,\n",
    "        tight_layout=True\n",
    "    )\n",
    "\n",
    "    fig.suptitle(\n",
    "        f\"Damped harmonic oscillator\\n\"\n",
    "        f\"$m={m:.2f}$, $c={c:.2f}$, $k={k:.2f}$\"\n",
    "    )\n",
    "\n",
    "    axs[0].plot(\n",
    "        t_values, x_values,\n",
    "        color='black'\n",
    "    )\n",
    "    axs[0].set_ylabel('Displacement')\n",
    "\n",
    "    axs[1].plot(\n",
    "        t_values, v_values,\n",
    "        color='red'\n",
    "    )\n",
    "    axs[1].set_xlabel('Time')\n",
    "    axs[1].set_ylabel('Velocity')\n",
    "\n",
    "    return fig, axs"
   ]
  },
  {
   "cell_type": "code",
   "execution_count": 4,
   "metadata": {},
   "outputs": [
    {
     "data": {
      "image/png": "[encoded data removed]",
      "text/plain": [
       "<Figure size 432x288 with 2 Axes>"
      ]
     },
     "metadata": {
      "needs_background": "light"
     },
     "output_type": "display_data"
    }
   ],
   "source": [
    "# Define the parameters\n",
    "m = 1.0  # Mass of the oscillator\n",
    "c = 0.5  # Damping coefficient\n",
    "k = 2.5  # Spring constant\n",
    "\n",
    "# Define the initial conditions\n",
    "x0 = 1.0  # Initial displacement\n",
    "v0 = 0.0  # Initial velocity\n",
    "\n",
    "# Define the time parameters\n",
    "t0 = 0.0    # Start time\n",
    "tf = 10.0   # End time\n",
    "dt = 0.01   # Time step\n",
    "\n",
    "\n",
    "# Call the function to solve the damped harmonic oscillator\n",
    "(\n",
    "    t_values, x_values, v_values\n",
    ") = solve_damped_harmonic_oscillator(\n",
    "    t0=t0, x0=x0, v0=v0, tf=tf, dt=dt,\n",
    "    c=c, k=k, m=m\n",
    ")\n",
    "fig, axs = plot_damped_harmonic_oscillator(\n",
    "    t_values, x_values, v_values,\n",
    "    c=c, k=k, m=m\n",
    ")"
   ]
  },
  {
   "cell_type": "code",
   "execution_count": null,
   "metadata": {},
   "outputs": [],
   "source": []
  }
 ],
 "metadata": {
  "kernelspec": {
   "display_name": "Python 3",
   "language": "python",
   "name": "python3"
  },
  "language_info": {
   "codemirror_mode": {
    "name": "ipython",
    "version": 3
   },
   "file_extension": ".py",
   "mimetype": "text/x-python",
   "name": "python",
   "nbconvert_exporter": "python",
   "pygments_lexer": "ipython3",
   "version": "3.10.6"
  },
  "orig_nbformat": 4
 },
 "nbformat": 4,
 "nbformat_minor": 2
}
