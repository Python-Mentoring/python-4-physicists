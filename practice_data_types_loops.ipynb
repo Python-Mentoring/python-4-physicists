{
 "cells": [
  {
   "cell_type": "markdown",
   "metadata": {},
   "source": [
    "### Euler's method and the damped harmonic oscillator"
   ]
  },
  {
   "cell_type": "markdown",
   "metadata": {},
   "source": [
    "Consider a mathematical model that describes the motion of a damped harmonic oscillator given by the following differential equation:\n",
    "\n",
    "$$m * \\frac{d^2x}{dt^2} + c * \\frac{dx}{dt} + k * x = 0$$\n",
    "\n",
    "Where:\n",
    "\n",
    "- m is the mass of the oscillator,\n",
    "- c is the damping coefficient,\n",
    "- k is the spring constant,\n",
    "- x(t) represents the displacement of the oscillator at time t."
   ]
  },
  {
   "cell_type": "markdown",
   "metadata": {},
   "source": [
    "Your task is to write a Python program that numerically solves this differential equation using the Euler method. Here are the steps to follow:\n",
    "\n",
    "1. Define the parameters m, c, and k for the oscillator. Choose values that represent an interesting scenario.\n",
    "\n",
    "2. Define the initial conditions $x_0$ and $v_0$ for the displacement and velocity, respectively.\n",
    "\n",
    "3. Set up the time parameters: start time $t_0$, end time $t_f$, and the time step dt.\n",
    "\n",
    "4. Create empty lists to store the time values and corresponding displacement values.\n",
    "\n",
    "5. Implement the Euler method to approximate the solution:\n",
    "\n",
    "  - Initialize $t = t_0$, $x = x_0$, and $v = v_0$.\n",
    "\n",
    "  - While $t < t_f$:\n",
    "\n",
    "    - Compute the acceleration a using the differential equation: \n",
    "      $$a = (-c * v - k * x) / m$$\n",
    "  \n",
    "    - Update the velocity v:\n",
    "      $$v = v + a * dt$$\n",
    "    \n",
    "    - Update the displacement x:\n",
    "      $$x = x + v * dt$$\n",
    "\n",
    "    - Append the current time t and displacement x to their respective lists.\n",
    "\n",
    "    - Increment the time:\n",
    "      $$t = t + dt$$\n",
    "\n",
    "\n",
    "6. Plot the displacement versus time using a suitable plotting library (e.g., matplotlib).\n",
    "\n",
    "7. Analyze and interpret the results. Discuss the behavior of the damped harmonic oscillator based on the chosen parameters and initial conditions."
   ]
  },
  {
   "cell_type": "code",
   "execution_count": 1,
   "metadata": {},
   "outputs": [],
   "source": [
    "import matplotlib.pyplot as plt"
   ]
  },
  {
   "cell_type": "code",
   "execution_count": 2,
   "metadata": {},
   "outputs": [],
   "source": [
    "# Parameters\n",
    "m = 0.5   # Mass of the oscillator\n",
    "c = 0.2   # Damping coefficient\n",
    "k = 2.0   # Spring constant\n",
    "\n",
    "# Initial conditions\n",
    "x0 = 1.0    # Initial displacement\n",
    "v0 = 0.0    # Initial velocity\n",
    "\n",
    "# Time parameters\n",
    "t0 = 0.0    # Start time\n",
    "tf = 10.0   # End time\n",
    "dt = 0.01   # Time step"
   ]
  },
  {
   "cell_type": "code",
   "execution_count": 3,
   "metadata": {},
   "outputs": [],
   "source": [
    "# Lists to store time and displacement values\n",
    "time_values = []\n",
    "displacement_values = []\n",
    "\n",
    "# Euler method\n",
    "t = t0\n",
    "x = x0\n",
    "v = v0\n",
    "\n",
    "while t < tf:\n",
    "    time_values.append(t)\n",
    "    displacement_values.append(x)\n",
    "\n",
    "    # Compute acceleration\n",
    "    a = (-c * v - k * x) / m\n",
    "\n",
    "    # Update velocity and displacement\n",
    "    v = v + a * dt\n",
    "    x = x + v * dt\n",
    "\n",
    "    t += dt"
   ]
  },
  {
   "cell_type": "code",
   "execution_count": 4,
   "metadata": {},
   "outputs": [
    {
     "data": {
      "image/png": "[encoded data removed]",
      "text/plain": [
       "<Figure size 432x288 with 1 Axes>"
      ]
     },
     "metadata": {
      "needs_background": "light"
     },
     "output_type": "display_data"
    }
   ],
   "source": [
    "# Plotting the displacement versus time\n",
    "plt.plot(time_values, displacement_values)\n",
    "plt.xlabel('Time')\n",
    "plt.ylabel('Displacement')\n",
    "plt.title('Displacement of a Damped Harmonic Oscillator')\n",
    "plt.grid(True)\n",
    "plt.show()"
   ]
  },
  {
   "cell_type": "markdown",
   "metadata": {},
   "source": [
    "## Appendix: The Euler Method"
   ]
  },
  {
   "cell_type": "markdown",
   "metadata": {},
   "source": [
    "The Euler method is a numerical approximation technique used to solve ordinary differential equations (ODEs). It is a simple method that relies on the principles of calculus and finite differences.\n",
    "\n",
    "In calculus, you may have encountered the concept of derivatives, which measures the rate of change of a function at a given point. The Euler method approximates the solution to an ODE by discretizing the time domain and approximating the derivative using finite differences."
   ]
  },
  {
   "cell_type": "markdown",
   "metadata": {},
   "source": [
    "### Euler's algorithm"
   ]
  },
  {
   "cell_type": "markdown",
   "metadata": {},
   "source": [
    "1. Given an ODE in the form dy/dt = f(t, y), where y is the dependent variable and t is the independent variable.\n",
    "\n",
    "2. To approximate the solution, we divide the time interval into small steps of length dt.\n",
    "\n",
    "3. We start at an initial condition (t0, y0), and we want to find the value of y at subsequent time steps.\n",
    "\n",
    "4. At each time step, we approximate the derivative dy/dt using the slope of the tangent line at the current point. This is done by evaluating the function f(t, y) at the current (t, y) values.\n",
    "\n",
    "5. We then update the value of y by taking a step in the direction of the tangent line. This is done by multiplying the derivative dy/dt by the time step dt and adding it to the current value of y. Mathematically:\n",
    "$$y(t + dt) = y(t) + f(t, y) * dt$$\n",
    "\n",
    "6. Repeat steps 4 and 5 for subsequent time steps until the desired end time is reached.\n",
    "\n",
    "The Euler method is a first-order approximation method, meaning that the error in the approximation is proportional to the step size (dt). It is relatively simple to implement and provides a reasonable approximation for simple ODEs. However, for more complex ODEs or when higher accuracy is required, more advanced numerical methods like the Runge-Kutta methods may be preferred."
   ]
  },
  {
   "cell_type": "markdown",
   "metadata": {},
   "source": [
    "### Euler's method for second order ODEs"
   ]
  },
  {
   "cell_type": "markdown",
   "metadata": {},
   "source": [
    "To apply the Euler method to a second-order ordinary differential equation (ODE), we need to convert it into a system of first-order ODEs. This can be done by introducing a new variable to represent the derivative of the dependent variable.\n",
    "\n",
    "Consider a second-order ODE in the form:\n",
    "\n",
    "$$\\frac{d^2y}{dt^2} = f(t, y, dy/dt)$$\n",
    "\n",
    "To apply the Euler method, we introduce a new variable v = dy/dt. This allows us to rewrite the second-order ODE as a system of two first-order ODEs:\n",
    "\n",
    "$$\\frac{dy}{dt} = v$$\n",
    "$$\\frac{dv}{dt} = f(t, y, v)$$\n",
    "\n",
    "Now, we can use the Euler method to approximate the solutions to these two first-order ODEs simultaneously."
   ]
  },
  {
   "cell_type": "markdown",
   "metadata": {},
   "source": [
    "#### Here's how the Euler method is applied:\n",
    "\n",
    "1. Divide the time interval into small steps of length dt.\n",
    "\n",
    "2. Start at the initial conditions (t0, y0, v0).\n",
    "\n",
    "3. At each time step, compute the derivatives dy/dt and dv/dt using the current (t, y, v) values.\n",
    "\n",
    "4. Update the values of y and v using the Euler method:\n",
    "\n",
    "   $$y(t + dt) = y(t) + \\frac{dy}{dt} * dt$$\n",
    "   $$v(t + dt) = v(t) + \\frac{dv}{dt} * dt$$\n",
    "\n",
    "5. Repeat steps 3 and 4 for subsequent time steps until the desired end time is reached."
   ]
  },
  {
   "cell_type": "markdown",
   "metadata": {},
   "source": [
    "Note that in step 3, the derivative dv/dt is determined by evaluating the original second-order ODE, f(t, y, v). This could involve additional computations or function evaluations based on the specific form of the ODE.\n",
    "\n",
    "By discretizing the time domain and approximating the derivatives using finite differences, the Euler method allows us to approximate the solution to a second-order ODE. However, it's important to note that the Euler method is a first-order method and may introduce significant errors for certain ODEs or when the step size (dt) is large. For improved accuracy, higher-order numerical methods like the Runge-Kutta methods are commonly used."
   ]
  },
  {
   "cell_type": "markdown",
   "metadata": {},
   "source": []
  }
 ],
 "metadata": {
  "kernelspec": {
   "display_name": "Python 3",
   "language": "python",
   "name": "python3"
  },
  "language_info": {
   "codemirror_mode": {
    "name": "ipython",
    "version": 3
   },
   "file_extension": ".py",
   "mimetype": "text/x-python",
   "name": "python",
   "nbconvert_exporter": "python",
   "pygments_lexer": "ipython3",
   "version": "3.10.6"
  },
  "orig_nbformat": 4
 },
 "nbformat": 4,
 "nbformat_minor": 2
}
