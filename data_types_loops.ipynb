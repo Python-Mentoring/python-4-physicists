{
 "cells": [
  {
   "cell_type": "markdown",
   "metadata": {},
   "source": [
    "# Variables and Data Types"
   ]
  },
  {
   "cell_type": "code",
   "execution_count": 1,
   "metadata": {},
   "outputs": [
    {
     "name": "stdout",
     "output_type": "stream",
     "text": [
      "True\n"
     ]
    }
   ],
   "source": [
    "# Variable declaration and assignment of values\n",
    "x = 10\n",
    "name = \"John\"\n",
    "is_valid = True\n",
    "print(is_valid)"
   ]
  },
  {
   "cell_type": "code",
   "execution_count": 2,
   "metadata": {},
   "outputs": [
    {
     "data": {
      "text/plain": [
       "bool"
      ]
     },
     "execution_count": 2,
     "metadata": {},
     "output_type": "execute_result"
    }
   ],
   "source": [
    "# Basic data types in Python: integers, floats, strings, booleans\n",
    "age = 25\n",
    "pi = 3.14159\n",
    "message = \"Hello, World!\"\n",
    "is_valid = False\n",
    "type(is_valid)"
   ]
  },
  {
   "cell_type": "code",
   "execution_count": 3,
   "metadata": {},
   "outputs": [
    {
     "name": "stdout",
     "output_type": "stream",
     "text": [
      "El resultado de la operacion es 1.00\n"
     ]
    }
   ],
   "source": [
    "# Operators\n",
    "a = 3\n",
    "b = 5\n",
    "sum = a + b\n",
    "product = a * b\n",
    "power = a ** b\n",
    "reminder = b % a\n",
    "division = b / a\n",
    "integer_division = b // a\n",
    "print(f\"El resultado de la operacion es {integer_division:.2f}\")"
   ]
  },
  {
   "cell_type": "code",
   "execution_count": 4,
   "metadata": {},
   "outputs": [
    {
     "name": "stdout",
     "output_type": "stream",
     "text": [
      "El resultado de la comparacion es True\n"
     ]
    }
   ],
   "source": [
    "a = 5\n",
    "b = 5\n",
    "is_equal = (a == b)\n",
    "is_not_equal = (a != b)\n",
    "is_greater_than = (b >= a)\n",
    "print(f\"El resultado de la comparacion es {is_greater_than}\")"
   ]
  },
  {
   "cell_type": "markdown",
   "metadata": {},
   "source": [
    "### if - elif - else statements"
   ]
  },
  {
   "cell_type": "code",
   "execution_count": 6,
   "metadata": {},
   "outputs": [
    {
     "name": "stdout",
     "output_type": "stream",
     "text": [
      "We have a closed universe\n"
     ]
    }
   ],
   "source": [
    "curvature = float(input(\"Enter a curvature: \"))\n",
    "\n",
    "if curvature > 0:\n",
    "\n",
    "    print(\"We have a closed universe\")\n",
    "\n",
    "elif curvature == 0:\n",
    "    \n",
    "    print(\"We have a flat universe\")\n",
    "\n",
    "else:\n",
    "    \n",
    "    print(\"We have an open universe\")"
   ]
  },
  {
   "cell_type": "code",
   "execution_count": 7,
   "metadata": {},
   "outputs": [
    {
     "name": "stdout",
     "output_type": "stream",
     "text": [
      "We don't have a closed universe\n"
     ]
    }
   ],
   "source": [
    "curvature = -2\n",
    "\n",
    "if (curvature == 0) or (curvature < 0):\n",
    "\n",
    "    print(\"We don't have a closed universe\")\n"
   ]
  },
  {
   "cell_type": "markdown",
   "metadata": {},
   "source": [
    "### Lists and Dictionaries"
   ]
  },
  {
   "cell_type": "markdown",
   "metadata": {},
   "source": [
    "Tuples"
   ]
  },
  {
   "cell_type": "code",
   "execution_count": 8,
   "metadata": {},
   "outputs": [
    {
     "name": "stdout",
     "output_type": "stream",
     "text": [
      "40\n"
     ]
    }
   ],
   "source": [
    "coordinates = (10, 20, 40)\n",
    "# print(type(coordinates))\n",
    "print(coordinates[2])\n",
    "# coordinates[2] = 40\n",
    "# print(coordinates[2])"
   ]
  },
  {
   "cell_type": "markdown",
   "metadata": {},
   "source": [
    "Lists"
   ]
  },
  {
   "cell_type": "code",
   "execution_count": 9,
   "metadata": {},
   "outputs": [
    {
     "name": "stdout",
     "output_type": "stream",
     "text": [
      "[1, 2, 3, 4, 5]\n",
      "The list has 5 elements\n",
      "[1, 2, 3, 4, 5, -3]\n",
      "The list has 6 elements\n",
      "[1, 2, 4, 5, -3]\n",
      "The list has 5 elements\n"
     ]
    }
   ],
   "source": [
    "numbers = [1, 2, 3, 4, 5]\n",
    "print(numbers)\n",
    "print(f\"The list has {len(numbers)} elements\")\n",
    "# add an element to the list\n",
    "numbers.append(-3)\n",
    "print(numbers)\n",
    "print(f\"The list has {len(numbers)} elements\")\n",
    "# remove an element from the list\n",
    "numbers.remove(3)\n",
    "print(numbers)\n",
    "print(f\"The list has {len(numbers)} elements\")"
   ]
  },
  {
   "cell_type": "code",
   "execution_count": 10,
   "metadata": {},
   "outputs": [
    {
     "name": "stdout",
     "output_type": "stream",
     "text": [
      "The element at index -3 is 4\n"
     ]
    }
   ],
   "source": [
    "idx = -3\n",
    "print(f\"The element at index {idx} is {numbers[idx]}\")"
   ]
  },
  {
   "cell_type": "code",
   "execution_count": 11,
   "metadata": {},
   "outputs": [
    {
     "name": "stdout",
     "output_type": "stream",
     "text": [
      "The elements from index 1 to 4 are:[2, 4, 5]\n"
     ]
    }
   ],
   "source": [
    "# [1, 2, 4, 5, -3]\n",
    "start_idx = 1\n",
    "end_idx = 4\n",
    "print(\n",
    "    f\"The elements from index {start_idx} to {end_idx} are:\"\n",
    "    f\"{numbers[start_idx:end_idx]}\"\n",
    ")"
   ]
  },
  {
   "cell_type": "code",
   "execution_count": 12,
   "metadata": {},
   "outputs": [
    {
     "name": "stdout",
     "output_type": "stream",
     "text": [
      "[4 6 4 6 6 5 4 4 5 4 6 5 6 4 6 6 4 4 6 6 6 4 5 6 6 6 5 5 5 6 5 5 6 4 5 4 6\n",
      " 4 4 6 4 4 5 4 5 4 6 5 4 5 5 5 5 4 6 6 6 5 5 4]\n",
      "There are 60 students who passed the course\n"
     ]
    }
   ],
   "source": [
    "import numpy as np\n",
    "grades = np.random.randint(1, 7, 100)\n",
    "pass_grades_mask = grades >= 4\n",
    "print(grades[pass_grades_mask])\n",
    "print(f\"There are {len(grades[pass_grades_mask])} students who passed the course\")"
   ]
  },
  {
   "cell_type": "code",
   "execution_count": 23,
   "metadata": {},
   "outputs": [],
   "source": [
    "# Creating tuples, lists and dictionaries\n",
    "student = {\n",
    "    \"name\": \"John\", \"age\": 20,\n",
    "    \"courses\": {\n",
    "        \"math\": \"A\",\n",
    "        \"physics\": \"B\",\n",
    "        \"chemistry\": \"C\"\n",
    "    }\n",
    "}"
   ]
  },
  {
   "cell_type": "code",
   "execution_count": 25,
   "metadata": {},
   "outputs": [
    {
     "name": "stdout",
     "output_type": "stream",
     "text": [
      "{'math': 'A', 'physics': 'B', 'chemistry': 'C', 'QFT': 'A++'}\n"
     ]
    }
   ],
   "source": [
    "student[\"courses\"][\"QFT\"] =  \"A++\"\n",
    "print(student[\"courses\"])"
   ]
  },
  {
   "cell_type": "code",
   "execution_count": 20,
   "metadata": {},
   "outputs": [],
   "source": [
    "student[\"gender\"] = \"non-binary\""
   ]
  },
  {
   "cell_type": "code",
   "execution_count": 21,
   "metadata": {},
   "outputs": [
    {
     "name": "stdout",
     "output_type": "stream",
     "text": [
      "{'name': 'John', 'age': 20, 'grade': 'A', 'courses': ['Math', 'Physics', 'Chemistry'], 'gender': 'non-binary'}\n"
     ]
    }
   ],
   "source": [
    "print(student)"
   ]
  },
  {
   "cell_type": "code",
   "execution_count": 22,
   "metadata": {},
   "outputs": [
    {
     "name": "stdout",
     "output_type": "stream",
     "text": [
      "{'name': 'John', 'age': 20, 'grade': 'B', 'courses': ['Math', 'Physics', 'Chemistry'], 'gender': 'non-binary'}\n"
     ]
    }
   ],
   "source": [
    "student[\"grade\"] = [\"A\", \"B\", \"C\"]\n",
    "print(student)"
   ]
  },
  {
   "cell_type": "markdown",
   "metadata": {},
   "source": [
    "### Loops"
   ]
  },
  {
   "cell_type": "code",
   "execution_count": 42,
   "metadata": {},
   "outputs": [
    {
     "name": "stdout",
     "output_type": "stream",
     "text": [
      "The result of the operation is 240\n"
     ]
    }
   ],
   "source": [
    "# sum = n*(n+1)/2\n",
    "# While loop\n",
    "count = 1\n",
    "accum = 2\n",
    "while count <= 5:\n",
    "    accum *= count\n",
    "    count += 1\n",
    "print(f\"The result of the operation is {accum}\")"
   ]
  },
  {
   "cell_type": "code",
   "execution_count": 46,
   "metadata": {},
   "outputs": [
    {
     "name": "stdout",
     "output_type": "stream",
     "text": [
      "The result of the operation is 64\n"
     ]
    }
   ],
   "source": [
    "count = 0\n",
    "base = 2\n",
    "accum = 1\n",
    "while count <= 3:\n",
    "    accum *= base ** count\n",
    "    count += 1\n",
    "print(f\"The result of the operation is {accum}\")"
   ]
  },
  {
   "cell_type": "code",
   "execution_count": 49,
   "metadata": {},
   "outputs": [
    {
     "name": "stdout",
     "output_type": "stream",
     "text": [
      "apple\n",
      "banana\n",
      "orange\n",
      "20\n"
     ]
    }
   ],
   "source": [
    "# For loop\n",
    "fruits = [\"apple\", \"banana\", \"orange\", 20]\n",
    "for fruit in fruits:\n",
    "    print(fruit)"
   ]
  },
  {
   "cell_type": "code",
   "execution_count": 52,
   "metadata": {},
   "outputs": [
    {
     "name": "stdout",
     "output_type": "stream",
     "text": [
      "The result of the operation is 120\n"
     ]
    }
   ],
   "source": [
    "numbers = [1, 2, 3, 4, 5]\n",
    "accum = 1\n",
    "for number in numbers:\n",
    "    accum *= number\n",
    "    \n",
    "print(f\"The result of the operation is {accum}\")\n"
   ]
  },
  {
   "cell_type": "code",
   "execution_count": null,
   "metadata": {},
   "outputs": [],
   "source": []
  }
 ],
 "metadata": {
  "kernelspec": {
   "display_name": "Python 3",
   "language": "python",
   "name": "python3"
  },
  "language_info": {
   "codemirror_mode": {
    "name": "ipython",
    "version": 3
   },
   "file_extension": ".py",
   "mimetype": "text/x-python",
   "name": "python",
   "nbconvert_exporter": "python",
   "pygments_lexer": "ipython3",
   "version": "3.10.6"
  },
  "orig_nbformat": 4
 },
 "nbformat": 4,
 "nbformat_minor": 2
}
