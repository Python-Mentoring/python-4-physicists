{
 "cells": [
  {
   "cell_type": "markdown",
   "metadata": {},
   "source": [
    "# Variables and Data Types"
   ]
  },
  {
   "cell_type": "code",
   "execution_count": 7,
   "metadata": {},
   "outputs": [
    {
     "name": "stdout",
     "output_type": "stream",
     "text": [
      "True\n"
     ]
    }
   ],
   "source": [
    "# Variable declaration and assignment of values\n",
    "x = 10\n",
    "name = \"John\"\n",
    "is_valid = True\n",
    "print(is_valid)"
   ]
  },
  {
   "cell_type": "code",
   "execution_count": 11,
   "metadata": {},
   "outputs": [
    {
     "data": {
      "text/plain": [
       "bool"
      ]
     },
     "execution_count": 11,
     "metadata": {},
     "output_type": "execute_result"
    }
   ],
   "source": [
    "# Basic data types in Python: integers, floats, strings, booleans\n",
    "age = 25\n",
    "pi = 3.14159\n",
    "message = \"Hello, World!\"\n",
    "is_valid = False\n",
    "type(is_valid)"
   ]
  },
  {
   "cell_type": "code",
   "execution_count": 23,
   "metadata": {},
   "outputs": [
    {
     "name": "stdout",
     "output_type": "stream",
     "text": [
      "El resultado de la operacion es 1.00\n"
     ]
    }
   ],
   "source": [
    "# Operators\n",
    "a = 3\n",
    "b = 5\n",
    "sum = a + b\n",
    "product = a * b\n",
    "power = a ** b\n",
    "reminder = b % a\n",
    "division = b / a\n",
    "integer_division = b // a\n",
    "print(f\"El resultado de la operacion es {integer_division:.2f}\")"
   ]
  },
  {
   "cell_type": "code",
   "execution_count": 30,
   "metadata": {},
   "outputs": [
    {
     "name": "stdout",
     "output_type": "stream",
     "text": [
      "El resultado de la comparacion es True\n"
     ]
    }
   ],
   "source": [
    "a = 5\n",
    "b = 5\n",
    "is_equal = (a == b)\n",
    "is_not_equal = (a != b)\n",
    "is_greater_than = (b >= a)\n",
    "print(f\"El resultado de la comparacion es {is_greater_than}\")"
   ]
  },
  {
   "cell_type": "markdown",
   "metadata": {},
   "source": [
    "### if - elif - else statements"
   ]
  },
  {
   "cell_type": "code",
   "execution_count": 39,
   "metadata": {},
   "outputs": [
    {
     "name": "stdout",
     "output_type": "stream",
     "text": [
      "We have a flat universe\n"
     ]
    }
   ],
   "source": [
    "curvature = float(input(\"Enter a curvature: \"))\n",
    "\n",
    "if curvature > 0:\n",
    "\n",
    "    print(\"We have a closed universe\")\n",
    "\n",
    "elif curvature == 0:\n",
    "    \n",
    "    print(\"We have a flat universe\")\n",
    "\n",
    "else:\n",
    "    \n",
    "    print(\"We have an open universe\")"
   ]
  },
  {
   "cell_type": "code",
   "execution_count": 41,
   "metadata": {},
   "outputs": [
    {
     "name": "stdout",
     "output_type": "stream",
     "text": [
      "We don't have a closed universe\n"
     ]
    }
   ],
   "source": [
    "curvature = -2\n",
    "\n",
    "if (curvature == 0) or (curvature < 0):\n",
    "\n",
    "    print(\"We don't have a closed universe\")\n"
   ]
  },
  {
   "cell_type": "markdown",
   "metadata": {},
   "source": [
    "### Lists and Dictionaries"
   ]
  },
  {
   "cell_type": "markdown",
   "metadata": {},
   "source": [
    "Tuples"
   ]
  },
  {
   "cell_type": "code",
   "execution_count": 47,
   "metadata": {},
   "outputs": [
    {
     "name": "stdout",
     "output_type": "stream",
     "text": [
      "40\n"
     ]
    }
   ],
   "source": [
    "coordinates = (10, 20, 40)\n",
    "# print(type(coordinates))\n",
    "print(coordinates[2])\n",
    "# coordinates[2] = 40\n",
    "# print(coordinates[2])"
   ]
  },
  {
   "cell_type": "markdown",
   "metadata": {},
   "source": [
    "Lists"
   ]
  },
  {
   "cell_type": "code",
   "execution_count": 52,
   "metadata": {},
   "outputs": [
    {
     "name": "stdout",
     "output_type": "stream",
     "text": [
      "[1, 2, 3, 4, 5]\n",
      "The list has 5 elements\n",
      "[1, 2, 3, 4, 5, -3]\n",
      "The list has 6 elements\n",
      "[1, 2, 4, 5, -3]\n",
      "The list has 5 elements\n"
     ]
    }
   ],
   "source": [
    "numbers = [1, 2, 3, 4, 5]\n",
    "print(numbers)\n",
    "print(f\"The list has {len(numbers)} elements\")\n",
    "# add an element to the list\n",
    "numbers.append(-3)\n",
    "print(numbers)\n",
    "print(f\"The list has {len(numbers)} elements\")\n",
    "# remove an element from the list\n",
    "numbers.remove(3)\n",
    "print(numbers)\n",
    "print(f\"The list has {len(numbers)} elements\")"
   ]
  },
  {
   "cell_type": "code",
   "execution_count": 56,
   "metadata": {},
   "outputs": [
    {
     "name": "stdout",
     "output_type": "stream",
     "text": [
      "The element at index -3 is 4\n"
     ]
    }
   ],
   "source": [
    "idx = -3\n",
    "print(f\"The element at index {idx} is {numbers[idx]}\")"
   ]
  },
  {
   "cell_type": "code",
   "execution_count": 58,
   "metadata": {},
   "outputs": [
    {
     "name": "stdout",
     "output_type": "stream",
     "text": [
      "The elements from index 1 to 4 are:[2, 4, 5]\n"
     ]
    }
   ],
   "source": [
    "# [1, 2, 4, 5, -3]\n",
    "start_idx = 1\n",
    "end_idx = 4\n",
    "print(\n",
    "    f\"The elements from index {start_idx} to {end_idx} are:\"\n",
    "    f\"{numbers[start_idx:end_idx]}\"\n",
    ")"
   ]
  },
  {
   "cell_type": "code",
   "execution_count": 61,
   "metadata": {},
   "outputs": [
    {
     "name": "stdout",
     "output_type": "stream",
     "text": [
      "[5 5 4 6 6 6 6 6 4 5 6 6 4 4 5 5 6 4 6 6 4 6 6 4 6 4 5 4 5 5 4 6 5 4 4 4 6\n",
      " 6 5 6 6 6 6 4 5 5 6 5 6 4 5 4 5 4 6]\n",
      "There are 55 students who passed the course\n"
     ]
    }
   ],
   "source": [
    "import numpy as np\n",
    "grades = np.random.randint(1, 7, 100)\n",
    "pass_grades_mask = grades >= 4\n",
    "print(grades[pass_grades_mask])\n",
    "print(f\"There are {len(grades[pass_grades_mask])} students who passed the course\")"
   ]
  },
  {
   "cell_type": "code",
   "execution_count": 42,
   "metadata": {},
   "outputs": [
    {
     "name": "stdout",
     "output_type": "stream",
     "text": [
      "<class 'tuple'>\n"
     ]
    }
   ],
   "source": [
    "# Creating tuples, lists and dictionaries\n",
    "# student = {\"name\": \"John\", \"age\": 20, \"grade\": \"A\"}"
   ]
  },
  {
   "cell_type": "code",
   "execution_count": 6,
   "metadata": {},
   "outputs": [],
   "source": [
    "# Adding, removing, and searching elements\n",
    "numbers.append(6)\n",
    "student[\"school\"] = \"ABC School\"\n",
    "numbers.remove(3)\n",
    "grade = student[\"grade\"]"
   ]
  },
  {
   "cell_type": "code",
   "execution_count": 7,
   "metadata": {},
   "outputs": [],
   "source": [
    "# List and dictionary methods\n",
    "length = len(numbers)\n",
    "keys = student.keys()\n",
    "values = student.values()"
   ]
  },
  {
   "cell_type": "markdown",
   "metadata": {},
   "source": [
    "### Loops"
   ]
  },
  {
   "cell_type": "code",
   "execution_count": 8,
   "metadata": {},
   "outputs": [
    {
     "name": "stdout",
     "output_type": "stream",
     "text": [
      "Count: 0\n",
      "Count: 1\n",
      "Count: 2\n",
      "Count: 3\n",
      "Count: 4\n"
     ]
    }
   ],
   "source": [
    "# While loop\n",
    "count = 0\n",
    "while count < 5:\n",
    "    print(\"Count:\", count)\n",
    "    count += 1"
   ]
  },
  {
   "cell_type": "code",
   "execution_count": 9,
   "metadata": {},
   "outputs": [
    {
     "name": "stdout",
     "output_type": "stream",
     "text": [
      "apple\n",
      "banana\n",
      "orange\n"
     ]
    }
   ],
   "source": [
    "# For loop\n",
    "fruits = [\"apple\", \"banana\", \"orange\"]\n",
    "for fruit in fruits:\n",
    "    print(fruit)"
   ]
  },
  {
   "cell_type": "code",
   "execution_count": null,
   "metadata": {},
   "outputs": [],
   "source": []
  }
 ],
 "metadata": {
  "kernelspec": {
   "display_name": "Python 3",
   "language": "python",
   "name": "python3"
  },
  "language_info": {
   "codemirror_mode": {
    "name": "ipython",
    "version": 3
   },
   "file_extension": ".py",
   "mimetype": "text/x-python",
   "name": "python",
   "nbconvert_exporter": "python",
   "pygments_lexer": "ipython3",
   "version": "3.10.6"
  },
  "orig_nbformat": 4
 },
 "nbformat": 4,
 "nbformat_minor": 2
}
