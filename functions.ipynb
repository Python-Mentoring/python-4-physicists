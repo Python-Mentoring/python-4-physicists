{
 "cells": [
  {
   "cell_type": "markdown",
   "metadata": {},
   "source": [
    "# Functions"
   ]
  },
  {
   "cell_type": "markdown",
   "metadata": {},
   "source": [
    "### Predefined Functions in Python"
   ]
  },
  {
   "cell_type": "code",
   "execution_count": 1,
   "metadata": {},
   "outputs": [],
   "source": [
    "import math"
   ]
  },
  {
   "cell_type": "code",
   "execution_count": 4,
   "metadata": {},
   "outputs": [
    {
     "name": "stdout",
     "output_type": "stream",
     "text": [
      "Help on built-in function sqrt in module math:\n",
      "\n",
      "sqrt(x, /)\n",
      "    Return the square root of x.\n",
      "\n"
     ]
    }
   ],
   "source": [
    "help(math.sqrt)"
   ]
  },
  {
   "cell_type": "code",
   "execution_count": 2,
   "metadata": {},
   "outputs": [
    {
     "name": "stdout",
     "output_type": "stream",
     "text": [
      "Square root of 25 is 5.00\n"
     ]
    }
   ],
   "source": [
    "x = 25\n",
    "sqrt_x = math.sqrt(x)\n",
    "print(f\"Square root of {x} is {sqrt_x:.2f}\")"
   ]
  },
  {
   "cell_type": "code",
   "execution_count": 5,
   "metadata": {},
   "outputs": [
    {
     "name": "stdout",
     "output_type": "stream",
     "text": [
      "Sine of 1.57 radians is 1.0\n"
     ]
    }
   ],
   "source": [
    "angle = math.pi / 2\n",
    "sin_angle = math.sin(angle)\n",
    "print(f\"Sine of {angle:.2f} radians is {sin_angle}\")"
   ]
  },
  {
   "cell_type": "markdown",
   "metadata": {},
   "source": [
    "### Creating Functions"
   ]
  },
  {
   "cell_type": "code",
   "execution_count": 16,
   "metadata": {},
   "outputs": [
    {
     "name": "stdout",
     "output_type": "stream",
     "text": [
      "Area of the circle with radius 10 is 314.16\n"
     ]
    }
   ],
   "source": [
    "# Function to calculate the area of a circle\n",
    "def circle_area(radius):\n",
    "    area = math.pi * radius ** 2\n",
    "    return area\n",
    "\n",
    "r = 10\n",
    "area = circle_area(radius=r)\n",
    "print(f\"Area of the circle with radius {r} is {area:.2f}\")"
   ]
  },
  {
   "cell_type": "code",
   "execution_count": 17,
   "metadata": {},
   "outputs": [
    {
     "name": "stdout",
     "output_type": "stream",
     "text": [
      "Area of the circle with radius 1 is 3.14\n",
      "Area of the circle with radius 2 is 12.57\n",
      "Area of the circle with radius 3 is 28.27\n",
      "Area of the circle with radius 4 is 50.27\n",
      "Area of the circle with radius 5 is 78.54\n"
     ]
    }
   ],
   "source": [
    "radii = [1, 2, 3, 4, 5]\n",
    "\n",
    "for r in radii:\n",
    "    a = circle_area(radius=r)\n",
    "    print(f\"Area of the circle with radius {r} is {a:.2f}\")"
   ]
  },
  {
   "cell_type": "code",
   "execution_count": 23,
   "metadata": {},
   "outputs": [
    {
     "name": "stdout",
     "output_type": "stream",
     "text": [
      "Kinetic energy of the object is 125.0 Joules\n"
     ]
    }
   ],
   "source": [
    "# Function to compute the kinetic energy of an object\n",
    "def kinetic_energy(mass, velocity):\n",
    "    \"\"\"\n",
    "    Returns the kinetic energy of an object with mass `mass` and velocity `velocity`.\n",
    "\n",
    "    INPUTS\n",
    "    mass: float, mass of the object in kg\n",
    "    velocity: float, velocity of the object in m/s\n",
    "\n",
    "    OUTPUTS\n",
    "    energy: float, kinetic energy of the object in Joules\n",
    "    \"\"\"\n",
    "    energy = 0.5 * mass * velocity ** 2\n",
    "    return energy\n",
    "\n",
    "m = 2.5    # mass in kg\n",
    "v = 10     # velocity in m/s\n",
    "\n",
    "ke = kinetic_energy(mass=m, velocity=v)\n",
    "print(f\"Kinetic energy of the object is {ke} Joules\")"
   ]
  },
  {
   "cell_type": "code",
   "execution_count": 24,
   "metadata": {},
   "outputs": [
    {
     "name": "stdout",
     "output_type": "stream",
     "text": [
      "Kinetic energy of the object is 0.0 Joules\n"
     ]
    }
   ],
   "source": [
    "ke = kinetic_energy(mass=3)\n",
    "print(f\"Kinetic energy of the object is {ke} Joules\")"
   ]
  },
  {
   "cell_type": "markdown",
   "metadata": {},
   "source": [
    "### Lambda Functions"
   ]
  },
  {
   "cell_type": "code",
   "execution_count": 25,
   "metadata": {},
   "outputs": [
    {
     "name": "stdout",
     "output_type": "stream",
     "text": [
      "The cube of 4 is 64.00\n"
     ]
    }
   ],
   "source": [
    "# Lambda function to calculate the cube of a number\n",
    "cube = lambda x: x ** 3\n",
    "\n",
    "num = 4\n",
    "result = cube(num)\n",
    "print(f\"The cube of {num} is {result:.2f}\")\n"
   ]
  },
  {
   "cell_type": "code",
   "execution_count": 26,
   "metadata": {},
   "outputs": [
    {
     "name": "stdout",
     "output_type": "stream",
     "text": [
      "Kinetic energy of the object is 125.0 Joules\n"
     ]
    }
   ],
   "source": [
    "kinetic_energy_2 = lambda m, v: 0.5 * m * v ** 2\n",
    "\n",
    "m = 2.5    # mass in kg\n",
    "v = 10     # velocity in m/s\n",
    "\n",
    "ke = kinetic_energy_2(m, v)\n",
    "print(f\"Kinetic energy of the object is {ke} Joules\")"
   ]
  },
  {
   "cell_type": "markdown",
   "metadata": {},
   "source": [
    "### Map function"
   ]
  },
  {
   "cell_type": "code",
   "execution_count": 28,
   "metadata": {},
   "outputs": [
    {
     "name": "stdout",
     "output_type": "stream",
     "text": [
      "Squared numbers: [1, 4, 9, 16, 25, 100]\n"
     ]
    }
   ],
   "source": [
    "# Square of each element in a list\n",
    "numbers = [1, 2, 3, 4, 5, 10]\n",
    "squared_numbers = map(lambda x: x ** 2, numbers)\n",
    "print(f\"Squared numbers: {list(squared_numbers)}\")"
   ]
  },
  {
   "cell_type": "markdown",
   "metadata": {},
   "source": [
    "### Filter function"
   ]
  },
  {
   "cell_type": "code",
   "execution_count": 32,
   "metadata": {},
   "outputs": [
    {
     "name": "stdout",
     "output_type": "stream",
     "text": [
      "Even numbers: [1, 3, 5, 7, 9]\n"
     ]
    }
   ],
   "source": [
    "# Extract even numbers from a list\n",
    "numbers = [1, 2, 3, 4, 5, 6, 7, 8, 9, 10]\n",
    "\n",
    "even_numbers = list(\n",
    "    filter(lambda x: x % 2 == 1, numbers)\n",
    ")\n",
    "print(f\"Even numbers: {even_numbers}\")\n"
   ]
  },
  {
   "cell_type": "code",
   "execution_count": null,
   "metadata": {},
   "outputs": [],
   "source": []
  }
 ],
 "metadata": {
  "kernelspec": {
   "display_name": "Python 3",
   "language": "python",
   "name": "python3"
  },
  "language_info": {
   "codemirror_mode": {
    "name": "ipython",
    "version": 3
   },
   "file_extension": ".py",
   "mimetype": "text/x-python",
   "name": "python",
   "nbconvert_exporter": "python",
   "pygments_lexer": "ipython3",
   "version": "3.10.12"
  },
  "orig_nbformat": 4
 },
 "nbformat": 4,
 "nbformat_minor": 2
}
